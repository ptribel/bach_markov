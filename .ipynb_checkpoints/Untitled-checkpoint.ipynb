{
 "cells": [
  {
   "cell_type": "markdown",
   "id": "d0994424",
   "metadata": {},
   "source": [
    "# Markov Generator from Bach Inventions"
   ]
  },
  {
   "cell_type": "code",
   "execution_count": 200,
   "id": "0cf84bfc",
   "metadata": {},
   "outputs": [],
   "source": [
    "from mido import MidiFile, Message, MidiTrack\n",
    "import numpy as np\n",
    "import matplotlib.pyplot as plt\n",
    "import itertools"
   ]
  },
  {
   "cell_type": "markdown",
   "id": "4ead55ca",
   "metadata": {},
   "source": [
    "We extract all the note beginnings and store it in a numpy array `tracks`."
   ]
  },
  {
   "cell_type": "code",
   "execution_count": 252,
   "id": "a88cedcc",
   "metadata": {},
   "outputs": [],
   "source": [
    "tracks = []\n",
    "for i in range(1, 16):\n",
    "    input_file = MidiFile(str(i) + '.mid')\n",
    "    for track in input_file.tracks[1:]:\n",
    "        t = np.array([i.note for i in track[2:] if i.type=='note_on'])\n",
    "        tracks.append(t)\n",
    "input_file = MidiFile('goldberg.mid')\n",
    "for track in input_file.tracks[1:]:\n",
    "    t = np.array([i.note for i in track[2:] if i.type=='note_on'])\n",
    "    tracks.append(t)"
   ]
  },
  {
   "cell_type": "code",
   "execution_count": 253,
   "id": "3fd236e2",
   "metadata": {},
   "outputs": [],
   "source": [
    "tracks = np.concatenate(tracks)"
   ]
  },
  {
   "cell_type": "markdown",
   "id": "188a6bc9",
   "metadata": {},
   "source": [
    "Now tracks contains 17594 notes. We ignore the side effects at the end of each track."
   ]
  },
  {
   "cell_type": "code",
   "execution_count": 254,
   "id": "691259c3",
   "metadata": {},
   "outputs": [
    {
     "data": {
      "text/plain": [
       "41802"
      ]
     },
     "execution_count": 254,
     "metadata": {},
     "output_type": "execute_result"
    }
   ],
   "source": [
    "len(tracks)"
   ]
  },
  {
   "cell_type": "markdown",
   "id": "de45cbeb",
   "metadata": {},
   "source": [
    "Let us store the probability for each note to be followed by another one. The highest note reached in Bach's invention is"
   ]
  },
  {
   "cell_type": "code",
   "execution_count": 255,
   "id": "7cd128b9",
   "metadata": {},
   "outputs": [],
   "source": [
    "max_note = max(tracks)\n",
    "min_note = min(tracks)"
   ]
  },
  {
   "cell_type": "markdown",
   "id": "9080ea09",
   "metadata": {},
   "source": [
    "Or, a C6 (the highest note on most harpsichords).\n",
    "Therefore we build a 2-dimensional matrix of $85\\times85$, and we compute the probability that one note follows another. This gives a Markov matrix of memory $1$."
   ]
  },
  {
   "cell_type": "code",
   "execution_count": 256,
   "id": "85227525",
   "metadata": {},
   "outputs": [],
   "source": [
    "def get_markov(level):\n",
    "    res = {}\n",
    "    for key in itertools.product(list(range(max_note+1)), repeat=level):\n",
    "        res[tuple(key)] = np.zeros(max_note+1)\n",
    "    for group in range(len(tracks)-level):\n",
    "        key = tuple(tracks[group:group+level])\n",
    "        res[key][tracks[group+level]] += 1\n",
    "    for group in range(len(tracks)-level):\n",
    "        key = tuple(tracks[group:group+level])\n",
    "        res[key] /= np.sum(res[key])\n",
    "    return res\n",
    "markov = get_markov(2)"
   ]
  },
  {
   "cell_type": "code",
   "execution_count": 257,
   "id": "6d667e30",
   "metadata": {},
   "outputs": [
    {
     "data": {
      "text/plain": [
       "array([0.        , 0.        , 0.        , 0.        , 0.        ,\n",
       "       0.        , 0.        , 0.        , 0.        , 0.        ,\n",
       "       0.        , 0.        , 0.        , 0.        , 0.        ,\n",
       "       0.        , 0.        , 0.        , 0.        , 0.        ,\n",
       "       0.        , 0.        , 0.        , 0.        , 0.        ,\n",
       "       0.        , 0.        , 0.        , 0.        , 0.        ,\n",
       "       0.        , 0.        , 0.        , 0.        , 0.        ,\n",
       "       0.        , 0.        , 0.        , 0.        , 0.        ,\n",
       "       0.        , 0.        , 0.        , 0.        , 0.        ,\n",
       "       0.        , 0.        , 0.        , 0.01481481, 0.        ,\n",
       "       0.00740741, 0.00740741, 0.01111111, 0.01111111, 0.01481481,\n",
       "       0.02962963, 0.03703704, 0.08888889, 0.22592593, 0.14444444,\n",
       "       0.04444444, 0.02592593, 0.18148148, 0.02962963, 0.05925926,\n",
       "       0.01851852, 0.        , 0.01481481, 0.        , 0.00740741,\n",
       "       0.00740741, 0.        , 0.01481481, 0.        , 0.        ,\n",
       "       0.0037037 , 0.        , 0.        , 0.        , 0.        ,\n",
       "       0.        , 0.        , 0.        , 0.        , 0.        ,\n",
       "       0.        , 0.        ])"
      ]
     },
     "execution_count": 257,
     "metadata": {},
     "output_type": "execute_result"
    }
   ],
   "source": [
    "markov[(60, 60)]"
   ]
  },
  {
   "cell_type": "markdown",
   "id": "5c603ee7",
   "metadata": {},
   "source": [
    "As an example, the following plot gives the statistical distribution of all the notes following notes $60$ and $60$ in a group."
   ]
  },
  {
   "cell_type": "code",
   "execution_count": 258,
   "id": "85ebe801",
   "metadata": {},
   "outputs": [
    {
     "data": {
      "text/plain": [
       "[<matplotlib.lines.Line2D at 0x7f8f458a28e0>]"
      ]
     },
     "execution_count": 258,
     "metadata": {},
     "output_type": "execute_result"
    },
    {
     "data": {
      "image/png": "[encoded data removed]",
      "text/plain": [
       "<Figure size 640x480 with 1 Axes>"
      ]
     },
     "metadata": {},
     "output_type": "display_data"
    }
   ],
   "source": [
    "plt.plot(markov[(60, 60)])"
   ]
  },
  {
   "cell_type": "markdown",
   "id": "1efce5ba",
   "metadata": {},
   "source": [
    "Let us now build a method that, given a certain group, outputs a random note according to the previously computed distributions."
   ]
  },
  {
   "cell_type": "code",
   "execution_count": 259,
   "id": "ff25768e",
   "metadata": {},
   "outputs": [],
   "source": [
    "def output_note(input_note):\n",
    "    if np.sum(markov[input_note]) > 0:\n",
    "        return np.random.choice(list(range(max_note+1)), p=markov[input_note])\n",
    "    else:\n",
    "        return np.random.choice(list(range(min_note, max_note)))"
   ]
  },
  {
   "cell_type": "markdown",
   "id": "408e4551",
   "metadata": {},
   "source": [
    "Let us now build a method that, given a first group, outputs a line of different notes (forming a melody)."
   ]
  },
  {
   "cell_type": "code",
   "execution_count": 260,
   "id": "03210674",
   "metadata": {},
   "outputs": [],
   "source": [
    "def output_melody(input_group, length, level):\n",
    "    res = list(input_group)\n",
    "    for _ in range(length):\n",
    "        res.append(output_note(tuple(res[-level:])))\n",
    "    return res"
   ]
  },
  {
   "cell_type": "code",
   "execution_count": 261,
   "id": "d40b8344",
   "metadata": {},
   "outputs": [],
   "source": [
    "melody = output_melody((38, 38), 40, 2)"
   ]
  },
  {
   "cell_type": "markdown",
   "id": "7354710a",
   "metadata": {},
   "source": [
    "Let us now convert this melody to a midi file:"
   ]
  },
  {
   "cell_type": "code",
   "execution_count": 263,
   "id": "27bc2287",
   "metadata": {},
   "outputs": [],
   "source": [
    "def convert_to_midi(melody, filename):\n",
    "    mid = MidiFile()\n",
    "    track = MidiTrack()\n",
    "    mid.tracks.append(track)\n",
    "    t = 500\n",
    "    for i in melody:\n",
    "        track.append(Message('note_on', note=i, time=0))\n",
    "        track.append(Message('note_off', note=i, time=150))\n",
    "    mid.save(filename)\n",
    "convert_to_midi(melody, 'test.mid')"
   ]
  },
  {
   "cell_type": "code",
   "execution_count": null,
   "id": "fb6e1082",
   "metadata": {},
   "outputs": [],
   "source": []
  }
 ],
 "metadata": {
  "kernelspec": {
   "display_name": "Python 3",
   "language": "python",
   "name": "python3"
  },
  "language_info": {
   "codemirror_mode": {
    "name": "ipython",
    "version": 3
   },
   "file_extension": ".py",
   "mimetype": "text/x-python",
   "name": "python",
   "nbconvert_exporter": "python",
   "pygments_lexer": "ipython3",
   "version": "3.8.0"
  }
 },
 "nbformat": 4,
 "nbformat_minor": 5
}
