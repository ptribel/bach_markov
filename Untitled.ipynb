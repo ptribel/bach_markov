{
 "cells": [
  {
   "cell_type": "markdown",
   "id": "77272bed",
   "metadata": {},
   "source": [
    "# Markov Generator from Bach Inventions"
   ]
  },
  {
   "cell_type": "code",
   "execution_count": 1,
   "id": "0cf84bfc",
   "metadata": {},
   "outputs": [],
   "source": [
    "from mido import MidiFile, Message, MidiTrack\n",
    "import numpy as np\n",
    "import matplotlib.pyplot as plt\n",
    "import itertools"
   ]
  },
  {
   "cell_type": "markdown",
   "id": "f0e7a637",
   "metadata": {},
   "source": [
    "We extract all the note beginnings and store it in a numpy array `tracks`."
   ]
  },
  {
   "cell_type": "code",
   "execution_count": 2,
   "id": "a88cedcc",
   "metadata": {},
   "outputs": [],
   "source": [
    "tracks = []\n",
    "for i in range(1, 16):\n",
    "    input_file = MidiFile(str(i) + '.mid')\n",
    "    for track in input_file.tracks[1:]:\n",
    "        t = np.array([i.note for i in track[2:] if i.type=='note_on'])\n",
    "        tracks.append(t)\n",
    "        \n",
    "input_file = MidiFile('goldberg.mid')\n",
    "for track in input_file.tracks[1:]:\n",
    "    t = np.array([i.note for i in track[2:] if i.type=='note_on'])\n",
    "    tracks.append(t)\n",
    "    \n",
    "input_file = MidiFile('toccata.mid')\n",
    "for track in input_file.tracks[1:]:\n",
    "    t = np.array([i.note for i in track[2:] if i.type=='note_on'])\n",
    "    tracks.append(t)"
   ]
  },
  {
   "cell_type": "code",
   "execution_count": 3,
   "id": "f90c97de",
   "metadata": {},
   "outputs": [],
   "source": [
    "tracks = np.concatenate(tracks)"
   ]
  },
  {
   "cell_type": "markdown",
   "id": "3be1b401",
   "metadata": {},
   "source": [
    "Now tracks contains 17594 notes. We ignore the side effects at the end of each track."
   ]
  },
  {
   "cell_type": "code",
   "execution_count": 4,
   "id": "19b7dd9c",
   "metadata": {},
   "outputs": [
    {
     "data": {
      "text/plain": [
       "49478"
      ]
     },
     "execution_count": 4,
     "metadata": {},
     "output_type": "execute_result"
    }
   ],
   "source": [
    "len(tracks)"
   ]
  },
  {
   "cell_type": "markdown",
   "id": "c2aded53",
   "metadata": {},
   "source": [
    "Let us store the probability for each note to be followed by another one. The highest note reached in Bach's invention is"
   ]
  },
  {
   "cell_type": "code",
   "execution_count": 5,
   "id": "0ec207b2",
   "metadata": {},
   "outputs": [],
   "source": [
    "max_note = max(tracks)\n",
    "min_note = min(tracks)"
   ]
  },
  {
   "cell_type": "markdown",
   "id": "43b15d5c",
   "metadata": {},
   "source": [
    "Or, a C6 (the highest note on most harpsichords).\n",
    "Therefore we build a 2-dimensional matrix of $85\\times85$, and we compute the probability that one note follows another. This gives a Markov matrix of memory $1$."
   ]
  },
  {
   "cell_type": "code",
   "execution_count": null,
   "id": "cb1b1620",
   "metadata": {},
   "outputs": [],
   "source": [
    "def get_markov(level):\n",
    "    res = {}\n",
    "    for key in itertools.product(list(range(int(max_note)+1)), repeat=level):\n",
    "        res[tuple(key)] = np.zeros(int(max_note)+1)\n",
    "    for group in range(len(tracks)-level):\n",
    "        key = tuple(tracks[group:group+level])\n",
    "        res[key][int(tracks[group+level])] += 1\n",
    "    for group in range(len(tracks)-level):\n",
    "        key = tuple(tracks[group:group+level])\n",
    "        res[key] /= np.sum(res[key])\n",
    "    return res\n",
    "markov = get_markov(4)"
   ]
  },
  {
   "cell_type": "code",
   "execution_count": null,
   "id": "725a0c7f",
   "metadata": {},
   "outputs": [],
   "source": [
    "markov[(60, 62, 64, 65)]"
   ]
  },
  {
   "cell_type": "markdown",
   "id": "78d9b50a",
   "metadata": {},
   "source": [
    "As an example, the following plot gives the statistical distribution of all the notes following notes $60$ and $60$ in a group."
   ]
  },
  {
   "cell_type": "code",
   "execution_count": null,
   "id": "31f7fceb",
   "metadata": {},
   "outputs": [],
   "source": [
    "plt.plot(markov[(60, 62, 64, 65)])"
   ]
  },
  {
   "cell_type": "markdown",
   "id": "3a8dc7c2",
   "metadata": {},
   "source": [
    "Let us now build a method that, given a certain group, outputs a random note according to the previously computed distributions."
   ]
  },
  {
   "cell_type": "code",
   "execution_count": null,
   "id": "399ee0e6",
   "metadata": {},
   "outputs": [],
   "source": [
    "def output_note(input_note):\n",
    "    if np.sum(markov[input_note]) > 0:\n",
    "        return np.random.choice(list(range(max_note+1)), p=markov[input_note])\n",
    "    else:\n",
    "        return np.random.choice(list(range(min_note, max_note)))"
   ]
  },
  {
   "cell_type": "markdown",
   "id": "669b8148",
   "metadata": {},
   "source": [
    "Let us now build a method that, given a first group, outputs a line of different notes (forming a melody)."
   ]
  },
  {
   "cell_type": "code",
   "execution_count": null,
   "id": "73e4cc8a",
   "metadata": {},
   "outputs": [],
   "source": [
    "def output_melody(input_group, length, level):\n",
    "    res = list(input_group)\n",
    "    for _ in range(length):\n",
    "        res.append(output_note(tuple(res[-level:])))\n",
    "    return res"
   ]
  },
  {
   "cell_type": "code",
   "execution_count": null,
   "id": "4415b986",
   "metadata": {},
   "outputs": [],
   "source": [
    "melody = output_melody((60, 62, 64, 65), 60, 4)"
   ]
  },
  {
   "cell_type": "markdown",
   "id": "23d68b3e",
   "metadata": {},
   "source": [
    "Let us now convert this melody to a midi file:"
   ]
  },
  {
   "cell_type": "code",
   "execution_count": null,
   "id": "a623eed8",
   "metadata": {},
   "outputs": [],
   "source": [
    "def convert_to_midi(melody, filename):\n",
    "    mid = MidiFile()\n",
    "    track = MidiTrack()\n",
    "    mid.tracks.append(track)\n",
    "    t = 500\n",
    "    for i in melody:\n",
    "        track.append(Message('note_on', note=i, time=0))\n",
    "        track.append(Message('note_off', note=i, time=300))\n",
    "    mid.save(filename)\n",
    "convert_to_midi(melody, 'test.mid')"
   ]
  },
  {
   "cell_type": "code",
   "execution_count": null,
   "id": "8f345695",
   "metadata": {},
   "outputs": [],
   "source": []
  }
 ],
 "metadata": {
  "kernelspec": {
   "display_name": "Python 3",
   "language": "python",
   "name": "python3"
  },
  "language_info": {
   "codemirror_mode": {
    "name": "ipython",
    "version": 3
   },
   "file_extension": ".py",
   "mimetype": "text/x-python",
   "name": "python",
   "nbconvert_exporter": "python",
   "pygments_lexer": "ipython3",
   "version": "3.8.0"
  }
 },
 "nbformat": 4,
 "nbformat_minor": 5
}
